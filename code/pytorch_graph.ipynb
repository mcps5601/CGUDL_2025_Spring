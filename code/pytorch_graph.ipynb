{
 "cells": [
  {
   "cell_type": "code",
   "execution_count": 1,
   "id": "8aa28b46-e7da-46f0-bc2e-442bc662a41b",
   "metadata": {},
   "outputs": [],
   "source": [
    "import torch\n",
    "import torch.nn as nn\n",
    "import torchviz\n",
    "\n",
    "device = 'cuda' if torch.cuda.is_available() else 'cpu'"
   ]
  },
  {
   "cell_type": "code",
   "execution_count": 2,
   "id": "957c95f4-7690-4ee1-b738-657fb372bab6",
   "metadata": {},
   "outputs": [
    {
     "name": "stdout",
     "output_type": "stream",
     "text": [
      "cuda\n"
     ]
    }
   ],
   "source": [
    "print(device)"
   ]
  },
  {
   "cell_type": "markdown",
   "id": "b909b964-5f36-4320-bb36-47e8ab7a581f",
   "metadata": {},
   "source": [
    "## 使用 PyTorch 進行簡易偏微分"
   ]
  },
  {
   "cell_type": "code",
   "execution_count": 3,
   "id": "e2d5c14d-f86f-4483-8bdc-34bc96b4f222",
   "metadata": {},
   "outputs": [
    {
     "name": "stdout",
     "output_type": "stream",
     "text": [
      "tensor(4.)\n"
     ]
    }
   ],
   "source": [
    "x = torch.tensor(2.0, requires_grad=True)\n",
    "y = x ** 2  # y = x^2\n",
    "y.backward()  # 計算 dy/dx\n",
    "print(x.grad)  # 4.0\n",
    "\n",
    "# y = x^2 形成了一個計算圖，y.backward() 會計算 dy/dx = 2*x = 4.0"
   ]
  },
  {
   "cell_type": "markdown",
   "id": "89dc1402-5ed8-4e3c-bfc5-6c3371850e00",
   "metadata": {},
   "source": [
    "### requires_grad=False 的 tensor，PyTorch 無法計算梯度"
   ]
  },
  {
   "cell_type": "code",
   "execution_count": 4,
   "id": "432cc4bd-1eb0-40ae-8724-8467a57b21dc",
   "metadata": {},
   "outputs": [
    {
     "ename": "RuntimeError",
     "evalue": "element 0 of tensors does not require grad and does not have a grad_fn",
     "output_type": "error",
     "traceback": [
      "\u001b[0;31m---------------------------------------------------------------------------\u001b[0m",
      "\u001b[0;31mRuntimeError\u001b[0m                              Traceback (most recent call last)",
      "Input \u001b[0;32mIn [4]\u001b[0m, in \u001b[0;36m<cell line: 3>\u001b[0;34m()\u001b[0m\n\u001b[1;32m      1\u001b[0m x \u001b[38;5;241m=\u001b[39m torch\u001b[38;5;241m.\u001b[39mtensor(\u001b[38;5;241m2.0\u001b[39m, requires_grad\u001b[38;5;241m=\u001b[39m\u001b[38;5;28;01mFalse\u001b[39;00m)\n\u001b[1;32m      2\u001b[0m y \u001b[38;5;241m=\u001b[39m x \u001b[38;5;241m*\u001b[39m\u001b[38;5;241m*\u001b[39m \u001b[38;5;241m2\u001b[39m  \u001b[38;5;66;03m# y = x^2\u001b[39;00m\n\u001b[0;32m----> 3\u001b[0m \u001b[43my\u001b[49m\u001b[38;5;241;43m.\u001b[39;49m\u001b[43mbackward\u001b[49m\u001b[43m(\u001b[49m\u001b[43m)\u001b[49m  \u001b[38;5;66;03m# 此時計算 dy/dx 會報錯\u001b[39;00m\n\u001b[1;32m      4\u001b[0m \u001b[38;5;28mprint\u001b[39m(x\u001b[38;5;241m.\u001b[39mgrad)\n",
      "File \u001b[0;32m~/miniconda3/lib/python3.8/site-packages/torch/_tensor.py:521\u001b[0m, in \u001b[0;36mTensor.backward\u001b[0;34m(self, gradient, retain_graph, create_graph, inputs)\u001b[0m\n\u001b[1;32m    511\u001b[0m \u001b[38;5;28;01mif\u001b[39;00m has_torch_function_unary(\u001b[38;5;28mself\u001b[39m):\n\u001b[1;32m    512\u001b[0m     \u001b[38;5;28;01mreturn\u001b[39;00m handle_torch_function(\n\u001b[1;32m    513\u001b[0m         Tensor\u001b[38;5;241m.\u001b[39mbackward,\n\u001b[1;32m    514\u001b[0m         (\u001b[38;5;28mself\u001b[39m,),\n\u001b[0;32m   (...)\u001b[0m\n\u001b[1;32m    519\u001b[0m         inputs\u001b[38;5;241m=\u001b[39minputs,\n\u001b[1;32m    520\u001b[0m     )\n\u001b[0;32m--> 521\u001b[0m \u001b[43mtorch\u001b[49m\u001b[38;5;241;43m.\u001b[39;49m\u001b[43mautograd\u001b[49m\u001b[38;5;241;43m.\u001b[39;49m\u001b[43mbackward\u001b[49m\u001b[43m(\u001b[49m\n\u001b[1;32m    522\u001b[0m \u001b[43m    \u001b[49m\u001b[38;5;28;43mself\u001b[39;49m\u001b[43m,\u001b[49m\u001b[43m \u001b[49m\u001b[43mgradient\u001b[49m\u001b[43m,\u001b[49m\u001b[43m \u001b[49m\u001b[43mretain_graph\u001b[49m\u001b[43m,\u001b[49m\u001b[43m \u001b[49m\u001b[43mcreate_graph\u001b[49m\u001b[43m,\u001b[49m\u001b[43m \u001b[49m\u001b[43minputs\u001b[49m\u001b[38;5;241;43m=\u001b[39;49m\u001b[43minputs\u001b[49m\n\u001b[1;32m    523\u001b[0m \u001b[43m\u001b[49m\u001b[43m)\u001b[49m\n",
      "File \u001b[0;32m~/miniconda3/lib/python3.8/site-packages/torch/autograd/__init__.py:289\u001b[0m, in \u001b[0;36mbackward\u001b[0;34m(tensors, grad_tensors, retain_graph, create_graph, grad_variables, inputs)\u001b[0m\n\u001b[1;32m    284\u001b[0m     retain_graph \u001b[38;5;241m=\u001b[39m create_graph\n\u001b[1;32m    286\u001b[0m \u001b[38;5;66;03m# The reason we repeat the same comment below is that\u001b[39;00m\n\u001b[1;32m    287\u001b[0m \u001b[38;5;66;03m# some Python versions print out the first line of a multi-line function\u001b[39;00m\n\u001b[1;32m    288\u001b[0m \u001b[38;5;66;03m# calls in the traceback and some print out the last line\u001b[39;00m\n\u001b[0;32m--> 289\u001b[0m \u001b[43m_engine_run_backward\u001b[49m\u001b[43m(\u001b[49m\n\u001b[1;32m    290\u001b[0m \u001b[43m    \u001b[49m\u001b[43mtensors\u001b[49m\u001b[43m,\u001b[49m\n\u001b[1;32m    291\u001b[0m \u001b[43m    \u001b[49m\u001b[43mgrad_tensors_\u001b[49m\u001b[43m,\u001b[49m\n\u001b[1;32m    292\u001b[0m \u001b[43m    \u001b[49m\u001b[43mretain_graph\u001b[49m\u001b[43m,\u001b[49m\n\u001b[1;32m    293\u001b[0m \u001b[43m    \u001b[49m\u001b[43mcreate_graph\u001b[49m\u001b[43m,\u001b[49m\n\u001b[1;32m    294\u001b[0m \u001b[43m    \u001b[49m\u001b[43minputs\u001b[49m\u001b[43m,\u001b[49m\n\u001b[1;32m    295\u001b[0m \u001b[43m    \u001b[49m\u001b[43mallow_unreachable\u001b[49m\u001b[38;5;241;43m=\u001b[39;49m\u001b[38;5;28;43;01mTrue\u001b[39;49;00m\u001b[43m,\u001b[49m\n\u001b[1;32m    296\u001b[0m \u001b[43m    \u001b[49m\u001b[43maccumulate_grad\u001b[49m\u001b[38;5;241;43m=\u001b[39;49m\u001b[38;5;28;43;01mTrue\u001b[39;49;00m\u001b[43m,\u001b[49m\n\u001b[1;32m    297\u001b[0m \u001b[43m\u001b[49m\u001b[43m)\u001b[49m\n",
      "File \u001b[0;32m~/miniconda3/lib/python3.8/site-packages/torch/autograd/graph.py:768\u001b[0m, in \u001b[0;36m_engine_run_backward\u001b[0;34m(t_outputs, *args, **kwargs)\u001b[0m\n\u001b[1;32m    766\u001b[0m     unregister_hooks \u001b[38;5;241m=\u001b[39m _register_logging_hooks_on_whole_graph(t_outputs)\n\u001b[1;32m    767\u001b[0m \u001b[38;5;28;01mtry\u001b[39;00m:\n\u001b[0;32m--> 768\u001b[0m     \u001b[38;5;28;01mreturn\u001b[39;00m \u001b[43mVariable\u001b[49m\u001b[38;5;241;43m.\u001b[39;49m\u001b[43m_execution_engine\u001b[49m\u001b[38;5;241;43m.\u001b[39;49m\u001b[43mrun_backward\u001b[49m\u001b[43m(\u001b[49m\u001b[43m  \u001b[49m\u001b[38;5;66;43;03m# Calls into the C++ engine to run the backward pass\u001b[39;49;00m\n\u001b[1;32m    769\u001b[0m \u001b[43m        \u001b[49m\u001b[43mt_outputs\u001b[49m\u001b[43m,\u001b[49m\u001b[43m \u001b[49m\u001b[38;5;241;43m*\u001b[39;49m\u001b[43margs\u001b[49m\u001b[43m,\u001b[49m\u001b[43m \u001b[49m\u001b[38;5;241;43m*\u001b[39;49m\u001b[38;5;241;43m*\u001b[39;49m\u001b[43mkwargs\u001b[49m\n\u001b[1;32m    770\u001b[0m \u001b[43m    \u001b[49m\u001b[43m)\u001b[49m  \u001b[38;5;66;03m# Calls into the C++ engine to run the backward pass\u001b[39;00m\n\u001b[1;32m    771\u001b[0m \u001b[38;5;28;01mfinally\u001b[39;00m:\n\u001b[1;32m    772\u001b[0m     \u001b[38;5;28;01mif\u001b[39;00m attach_logging_hooks:\n",
      "\u001b[0;31mRuntimeError\u001b[0m: element 0 of tensors does not require grad and does not have a grad_fn"
     ]
    }
   ],
   "source": [
    "x = torch.tensor(2.0, requires_grad=False)\n",
    "y = x ** 2  # y = x^2\n",
    "y.backward()  # 此時計算 dy/dx 會報錯\n",
    "print(x.grad)  # 4.0"
   ]
  },
  {
   "cell_type": "markdown",
   "id": "552b17c6-e780-4ad5-8a84-846c33111ce2",
   "metadata": {},
   "source": [
    "### 進行 .backward() 時，對象一定要是 scalar"
   ]
  },
  {
   "cell_type": "code",
   "execution_count": 5,
   "id": "08d64fb7-fda6-433c-a366-708809aad96a",
   "metadata": {},
   "outputs": [
    {
     "name": "stdout",
     "output_type": "stream",
     "text": [
      "tensor([-0.4897, -0.6702, -0.3982], requires_grad=True)\n"
     ]
    }
   ],
   "source": [
    "x = torch.randn(3, requires_grad=True)\n",
    "print(x)"
   ]
  },
  {
   "cell_type": "code",
   "execution_count": 6,
   "id": "486abfe3-ef0e-4068-8e3b-3176c00e980c",
   "metadata": {},
   "outputs": [
    {
     "name": "stdout",
     "output_type": "stream",
     "text": [
      "tensor([-0.3265, -0.4468, -0.2655])\n"
     ]
    }
   ],
   "source": [
    "y = x ** 2\n",
    "# y.backward() # 會報錯\n",
    "y.mean().backward() # 取平均後就不會報錯\n",
    "print(x.grad)"
   ]
  },
  {
   "cell_type": "markdown",
   "id": "224bc0f0-3804-42b7-b417-df797514017b",
   "metadata": {},
   "source": [
    "### 每次進行 .backward() 後，計算圖會被清空"
   ]
  },
  {
   "cell_type": "code",
   "execution_count": 7,
   "id": "80961c61-a8b6-4820-b385-a0c87ff605aa",
   "metadata": {},
   "outputs": [
    {
     "name": "stdout",
     "output_type": "stream",
     "text": [
      "tensor([-0.9794, -1.3403, -0.7964])\n"
     ]
    }
   ],
   "source": [
    "y = x ** 2\n",
    "y.mean().backward(retain_graph=True) # 如果要進行第二次 .backward()，需要加上 retain_graph=True\n",
    "y.mean().backward()\n",
    "print(x.grad)"
   ]
  },
  {
   "cell_type": "markdown",
   "id": "6631f88d-a99d-4aca-a274-01dbfeee5b3b",
   "metadata": {},
   "source": [
    "## torchviz\n",
    "- https://github.com/szagoruyko/pytorchviz"
   ]
  },
  {
   "cell_type": "code",
   "execution_count": 8,
   "id": "fb7b6093-3011-4b83-a63e-77e6508e6bc1",
   "metadata": {},
   "outputs": [],
   "source": [
    "# 定義一個簡單的前向傳播模型\n",
    "class SimpleNN(torch.nn.Module):\n",
    "    def __init__(self):\n",
    "        super(SimpleNN, self).__init__()\n",
    "        self.w1 = nn.Parameter(torch.randn(1))\n",
    "        self.w2 = nn.Parameter(torch.randn(1))\n",
    "        self.w3 = nn.Parameter(torch.randn(1), requires_grad=False)\n",
    "        self.relu = nn.ReLU()\n",
    "    \n",
    "    def forward(self, x1, x2):\n",
    "        u = self.w1 * x1\n",
    "        v = self.w2 * x2\n",
    "        z1 = u + v\n",
    "\n",
    "        a = self.relu(z1)\n",
    "        y_hat = self.w3 * a\n",
    "\n",
    "        return y_hat"
   ]
  },
  {
   "cell_type": "code",
   "execution_count": 9,
   "id": "d4a314b3-4747-49b7-a204-5636c0f1a631",
   "metadata": {},
   "outputs": [
    {
     "data": {
      "image/svg+xml": [
       "<?xml version=\"1.0\" encoding=\"UTF-8\" standalone=\"no\"?>\n",
       "<!DOCTYPE svg PUBLIC \"-//W3C//DTD SVG 1.1//EN\"\n",
       " \"http://www.w3.org/Graphics/SVG/1.1/DTD/svg11.dtd\">\n",
       "<!-- Generated by graphviz version 2.43.0 (0)\n",
       " -->\n",
       "<!-- Title: %3 Pages: 1 -->\n",
       "<svg width=\"466pt\" height=\"381pt\"\n",
       " viewBox=\"0.00 0.00 466.00 381.00\" xmlns=\"http://www.w3.org/2000/svg\" xmlns:xlink=\"http://www.w3.org/1999/xlink\">\n",
       "<g id=\"graph0\" class=\"graph\" transform=\"scale(1 1) rotate(0) translate(4 377)\">\n",
       "<title>%3</title>\n",
       "<polygon fill=\"white\" stroke=\"transparent\" points=\"-4,4 -4,-377 462,-377 462,4 -4,4\"/>\n",
       "<!-- 140134776560832 -->\n",
       "<g id=\"node1\" class=\"node\">\n",
       "<title>140134776560832</title>\n",
       "<polygon fill=\"#caff70\" stroke=\"black\" points=\"255.5,-31 201.5,-31 201.5,0 255.5,0 255.5,-31\"/>\n",
       "<text text-anchor=\"middle\" x=\"228.5\" y=\"-7\" font-family=\"monospace\" font-size=\"10.00\"> (1)</text>\n",
       "</g>\n",
       "<!-- 140139017491408 -->\n",
       "<g id=\"node2\" class=\"node\">\n",
       "<title>140139017491408</title>\n",
       "<polygon fill=\"lightgrey\" stroke=\"black\" points=\"273,-86 184,-86 184,-67 273,-67 273,-86\"/>\n",
       "<text text-anchor=\"middle\" x=\"228.5\" y=\"-74\" font-family=\"monospace\" font-size=\"10.00\">MulBackward0</text>\n",
       "</g>\n",
       "<!-- 140139017491408&#45;&gt;140134776560832 -->\n",
       "<g id=\"edge13\" class=\"edge\">\n",
       "<title>140139017491408&#45;&gt;140134776560832</title>\n",
       "<path fill=\"none\" stroke=\"black\" d=\"M228.5,-66.79C228.5,-60.07 228.5,-50.4 228.5,-41.34\"/>\n",
       "<polygon fill=\"black\" stroke=\"black\" points=\"232,-41.19 228.5,-31.19 225,-41.19 232,-41.19\"/>\n",
       "</g>\n",
       "<!-- 140139017734272 -->\n",
       "<g id=\"node3\" class=\"node\">\n",
       "<title>140139017734272</title>\n",
       "<polygon fill=\"lightgrey\" stroke=\"black\" points=\"276,-141 181,-141 181,-122 276,-122 276,-141\"/>\n",
       "<text text-anchor=\"middle\" x=\"228.5\" y=\"-129\" font-family=\"monospace\" font-size=\"10.00\">ReluBackward0</text>\n",
       "</g>\n",
       "<!-- 140139017734272&#45;&gt;140139017491408 -->\n",
       "<g id=\"edge1\" class=\"edge\">\n",
       "<title>140139017734272&#45;&gt;140139017491408</title>\n",
       "<path fill=\"none\" stroke=\"black\" d=\"M228.5,-121.75C228.5,-114.8 228.5,-104.85 228.5,-96.13\"/>\n",
       "<polygon fill=\"black\" stroke=\"black\" points=\"232,-96.09 228.5,-86.09 225,-96.09 232,-96.09\"/>\n",
       "</g>\n",
       "<!-- 140139017491360 -->\n",
       "<g id=\"node4\" class=\"node\">\n",
       "<title>140139017491360</title>\n",
       "<polygon fill=\"lightgrey\" stroke=\"black\" points=\"273,-196 184,-196 184,-177 273,-177 273,-196\"/>\n",
       "<text text-anchor=\"middle\" x=\"228.5\" y=\"-184\" font-family=\"monospace\" font-size=\"10.00\">AddBackward0</text>\n",
       "</g>\n",
       "<!-- 140139017491360&#45;&gt;140139017734272 -->\n",
       "<g id=\"edge2\" class=\"edge\">\n",
       "<title>140139017491360&#45;&gt;140139017734272</title>\n",
       "<path fill=\"none\" stroke=\"black\" d=\"M228.5,-176.75C228.5,-169.8 228.5,-159.85 228.5,-151.13\"/>\n",
       "<polygon fill=\"black\" stroke=\"black\" points=\"232,-151.09 228.5,-141.09 225,-151.09 232,-151.09\"/>\n",
       "</g>\n",
       "<!-- 140135097105808 -->\n",
       "<g id=\"node5\" class=\"node\">\n",
       "<title>140135097105808</title>\n",
       "<polygon fill=\"lightgrey\" stroke=\"black\" points=\"214,-251 125,-251 125,-232 214,-232 214,-251\"/>\n",
       "<text text-anchor=\"middle\" x=\"169.5\" y=\"-239\" font-family=\"monospace\" font-size=\"10.00\">MulBackward0</text>\n",
       "</g>\n",
       "<!-- 140135097105808&#45;&gt;140139017491360 -->\n",
       "<g id=\"edge3\" class=\"edge\">\n",
       "<title>140135097105808&#45;&gt;140139017491360</title>\n",
       "<path fill=\"none\" stroke=\"black\" d=\"M178.98,-231.98C187.7,-224.15 200.84,-212.34 211.4,-202.86\"/>\n",
       "<polygon fill=\"black\" stroke=\"black\" points=\"213.75,-205.46 218.85,-196.17 209.07,-200.25 213.75,-205.46\"/>\n",
       "</g>\n",
       "<!-- 140135097104464 -->\n",
       "<g id=\"node6\" class=\"node\">\n",
       "<title>140135097104464</title>\n",
       "<polygon fill=\"lightgrey\" stroke=\"black\" points=\"101,-306 0,-306 0,-287 101,-287 101,-306\"/>\n",
       "<text text-anchor=\"middle\" x=\"50.5\" y=\"-294\" font-family=\"monospace\" font-size=\"10.00\">AccumulateGrad</text>\n",
       "</g>\n",
       "<!-- 140135097104464&#45;&gt;140135097105808 -->\n",
       "<g id=\"edge4\" class=\"edge\">\n",
       "<title>140135097104464&#45;&gt;140135097105808</title>\n",
       "<path fill=\"none\" stroke=\"black\" d=\"M69.62,-286.98C88.85,-278.42 118.73,-265.11 140.81,-255.28\"/>\n",
       "<polygon fill=\"black\" stroke=\"black\" points=\"142.32,-258.44 150.03,-251.17 139.47,-252.04 142.32,-258.44\"/>\n",
       "</g>\n",
       "<!-- 140134776506704 -->\n",
       "<g id=\"node7\" class=\"node\">\n",
       "<title>140134776506704</title>\n",
       "<polygon fill=\"lightblue\" stroke=\"black\" points=\"77.5,-372.5 23.5,-372.5 23.5,-342.5 77.5,-342.5 77.5,-372.5\"/>\n",
       "<text text-anchor=\"middle\" x=\"50.5\" y=\"-360.5\" font-family=\"monospace\" font-size=\"10.00\">w1</text>\n",
       "<text text-anchor=\"middle\" x=\"50.5\" y=\"-349.5\" font-family=\"monospace\" font-size=\"10.00\"> (1)</text>\n",
       "</g>\n",
       "<!-- 140134776506704&#45;&gt;140135097104464 -->\n",
       "<g id=\"edge5\" class=\"edge\">\n",
       "<title>140134776506704&#45;&gt;140135097104464</title>\n",
       "<path fill=\"none\" stroke=\"black\" d=\"M50.5,-342.22C50.5,-334.53 50.5,-324.94 50.5,-316.61\"/>\n",
       "<polygon fill=\"black\" stroke=\"black\" points=\"54,-316.34 50.5,-306.34 47,-316.34 54,-316.34\"/>\n",
       "</g>\n",
       "<!-- 140135097105712 -->\n",
       "<g id=\"node8\" class=\"node\">\n",
       "<title>140135097105712</title>\n",
       "<polygon fill=\"lightgrey\" stroke=\"black\" points=\"220,-306 119,-306 119,-287 220,-287 220,-306\"/>\n",
       "<text text-anchor=\"middle\" x=\"169.5\" y=\"-294\" font-family=\"monospace\" font-size=\"10.00\">AccumulateGrad</text>\n",
       "</g>\n",
       "<!-- 140135097105712&#45;&gt;140135097105808 -->\n",
       "<g id=\"edge6\" class=\"edge\">\n",
       "<title>140135097105712&#45;&gt;140135097105808</title>\n",
       "<path fill=\"none\" stroke=\"black\" d=\"M169.5,-286.75C169.5,-279.8 169.5,-269.85 169.5,-261.13\"/>\n",
       "<polygon fill=\"black\" stroke=\"black\" points=\"173,-261.09 169.5,-251.09 166,-261.09 173,-261.09\"/>\n",
       "</g>\n",
       "<!-- 140134776506384 -->\n",
       "<g id=\"node9\" class=\"node\">\n",
       "<title>140134776506384</title>\n",
       "<polygon fill=\"lightblue\" stroke=\"black\" points=\"196.5,-373 142.5,-373 142.5,-342 196.5,-342 196.5,-373\"/>\n",
       "<text text-anchor=\"middle\" x=\"169.5\" y=\"-349\" font-family=\"monospace\" font-size=\"10.00\"> (1)</text>\n",
       "</g>\n",
       "<!-- 140134776506384&#45;&gt;140135097105712 -->\n",
       "<g id=\"edge7\" class=\"edge\">\n",
       "<title>140134776506384&#45;&gt;140135097105712</title>\n",
       "<path fill=\"none\" stroke=\"black\" d=\"M169.5,-341.92C169.5,-334.22 169.5,-324.69 169.5,-316.43\"/>\n",
       "<polygon fill=\"black\" stroke=\"black\" points=\"173,-316.25 169.5,-306.25 166,-316.25 173,-316.25\"/>\n",
       "</g>\n",
       "<!-- 140135097104752 -->\n",
       "<g id=\"node10\" class=\"node\">\n",
       "<title>140135097104752</title>\n",
       "<polygon fill=\"lightgrey\" stroke=\"black\" points=\"333,-251 244,-251 244,-232 333,-232 333,-251\"/>\n",
       "<text text-anchor=\"middle\" x=\"288.5\" y=\"-239\" font-family=\"monospace\" font-size=\"10.00\">MulBackward0</text>\n",
       "</g>\n",
       "<!-- 140135097104752&#45;&gt;140139017491360 -->\n",
       "<g id=\"edge8\" class=\"edge\">\n",
       "<title>140135097104752&#45;&gt;140139017491360</title>\n",
       "<path fill=\"none\" stroke=\"black\" d=\"M278.86,-231.98C269.99,-224.15 256.63,-212.34 245.89,-202.86\"/>\n",
       "<polygon fill=\"black\" stroke=\"black\" points=\"248.13,-200.17 238.32,-196.17 243.49,-205.41 248.13,-200.17\"/>\n",
       "</g>\n",
       "<!-- 140135097105760 -->\n",
       "<g id=\"node11\" class=\"node\">\n",
       "<title>140135097105760</title>\n",
       "<polygon fill=\"lightgrey\" stroke=\"black\" points=\"339,-306 238,-306 238,-287 339,-287 339,-306\"/>\n",
       "<text text-anchor=\"middle\" x=\"288.5\" y=\"-294\" font-family=\"monospace\" font-size=\"10.00\">AccumulateGrad</text>\n",
       "</g>\n",
       "<!-- 140135097105760&#45;&gt;140135097104752 -->\n",
       "<g id=\"edge9\" class=\"edge\">\n",
       "<title>140135097105760&#45;&gt;140135097104752</title>\n",
       "<path fill=\"none\" stroke=\"black\" d=\"M288.5,-286.75C288.5,-279.8 288.5,-269.85 288.5,-261.13\"/>\n",
       "<polygon fill=\"black\" stroke=\"black\" points=\"292,-261.09 288.5,-251.09 285,-261.09 292,-261.09\"/>\n",
       "</g>\n",
       "<!-- 140134776507104 -->\n",
       "<g id=\"node12\" class=\"node\">\n",
       "<title>140134776507104</title>\n",
       "<polygon fill=\"lightblue\" stroke=\"black\" points=\"315.5,-372.5 261.5,-372.5 261.5,-342.5 315.5,-342.5 315.5,-372.5\"/>\n",
       "<text text-anchor=\"middle\" x=\"288.5\" y=\"-360.5\" font-family=\"monospace\" font-size=\"10.00\">w2</text>\n",
       "<text text-anchor=\"middle\" x=\"288.5\" y=\"-349.5\" font-family=\"monospace\" font-size=\"10.00\"> (1)</text>\n",
       "</g>\n",
       "<!-- 140134776507104&#45;&gt;140135097105760 -->\n",
       "<g id=\"edge10\" class=\"edge\">\n",
       "<title>140134776507104&#45;&gt;140135097105760</title>\n",
       "<path fill=\"none\" stroke=\"black\" d=\"M288.5,-342.22C288.5,-334.53 288.5,-324.94 288.5,-316.61\"/>\n",
       "<polygon fill=\"black\" stroke=\"black\" points=\"292,-316.34 288.5,-306.34 285,-316.34 292,-316.34\"/>\n",
       "</g>\n",
       "<!-- 140135097105040 -->\n",
       "<g id=\"node13\" class=\"node\">\n",
       "<title>140135097105040</title>\n",
       "<polygon fill=\"lightgrey\" stroke=\"black\" points=\"458,-306 357,-306 357,-287 458,-287 458,-306\"/>\n",
       "<text text-anchor=\"middle\" x=\"407.5\" y=\"-294\" font-family=\"monospace\" font-size=\"10.00\">AccumulateGrad</text>\n",
       "</g>\n",
       "<!-- 140135097105040&#45;&gt;140135097104752 -->\n",
       "<g id=\"edge11\" class=\"edge\">\n",
       "<title>140135097105040&#45;&gt;140135097104752</title>\n",
       "<path fill=\"none\" stroke=\"black\" d=\"M388.38,-286.98C369.15,-278.42 339.27,-265.11 317.19,-255.28\"/>\n",
       "<polygon fill=\"black\" stroke=\"black\" points=\"318.53,-252.04 307.97,-251.17 315.68,-258.44 318.53,-252.04\"/>\n",
       "</g>\n",
       "<!-- 140134776505264 -->\n",
       "<g id=\"node14\" class=\"node\">\n",
       "<title>140134776505264</title>\n",
       "<polygon fill=\"lightblue\" stroke=\"black\" points=\"434.5,-373 380.5,-373 380.5,-342 434.5,-342 434.5,-373\"/>\n",
       "<text text-anchor=\"middle\" x=\"407.5\" y=\"-349\" font-family=\"monospace\" font-size=\"10.00\"> (1)</text>\n",
       "</g>\n",
       "<!-- 140134776505264&#45;&gt;140135097105040 -->\n",
       "<g id=\"edge12\" class=\"edge\">\n",
       "<title>140134776505264&#45;&gt;140135097105040</title>\n",
       "<path fill=\"none\" stroke=\"black\" d=\"M407.5,-341.92C407.5,-334.22 407.5,-324.69 407.5,-316.43\"/>\n",
       "<polygon fill=\"black\" stroke=\"black\" points=\"411,-316.25 407.5,-306.25 404,-316.25 411,-316.25\"/>\n",
       "</g>\n",
       "</g>\n",
       "</svg>\n"
      ],
      "text/plain": [
       "<graphviz.graphs.Digraph at 0x7f74a85f07c0>"
      ]
     },
     "execution_count": 9,
     "metadata": {},
     "output_type": "execute_result"
    }
   ],
   "source": [
    "# 創建模型和輸入數據\n",
    "model = SimpleNN()\n",
    "x1 = torch.randn(1, requires_grad=True) # 隨機建立一個數字的 tensor\n",
    "x2 = torch.randn(1, requires_grad=True) # 隨機建立一個數字的 tensor\n",
    "\n",
    "# 計算前向傳播\n",
    "output = model(x1, x2)\n",
    "\n",
    "# 在此顯示\n",
    "torchviz.make_dot(output, params=dict(model.named_parameters()))"
   ]
  },
  {
   "cell_type": "code",
   "execution_count": null,
   "id": "124f88ca-8fd1-43e7-aaf0-aab799af5a44",
   "metadata": {},
   "outputs": [],
   "source": [
    "# 儲存 torchviz 的計算圖\n",
    "dot = torchviz.make_dot(output, params=dict(model.named_parameters()))\n",
    "dot.render(\"computational_graph\", format=\"png\")"
   ]
  }
 ],
 "metadata": {
  "kernelspec": {
   "display_name": "base",
   "language": "python",
   "name": "base"
  },
  "language_info": {
   "codemirror_mode": {
    "name": "ipython",
    "version": 3
   },
   "file_extension": ".py",
   "mimetype": "text/x-python",
   "name": "python",
   "nbconvert_exporter": "python",
   "pygments_lexer": "ipython3",
   "version": "3.8.5"
  }
 },
 "nbformat": 4,
 "nbformat_minor": 5
}
